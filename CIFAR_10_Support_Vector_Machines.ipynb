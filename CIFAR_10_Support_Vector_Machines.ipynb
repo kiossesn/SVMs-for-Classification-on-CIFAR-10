{
  "cells": [
    {
      "cell_type": "markdown",
      "metadata": {
        "id": "f3iV6Lqgagp3"
      },
      "source": [
        "**Νευρωνικά Δίκτυα - Βαθιά Μάθηση**\n",
        "\n",
        "Νίκος Κιοσσές\n",
        "\n",
        "12/2024"
      ]
    },
    {
      "cell_type": "markdown",
      "metadata": {
        "id": "B6n8XRibanDK"
      },
      "source": [
        "###Εισαγωγή Βιβλιοθηκών"
      ]
    },
    {
      "cell_type": "code",
      "execution_count": 1,
      "metadata": {
        "id": "2NhqgJi3ZnaU"
      },
      "outputs": [],
      "source": [
        "from sklearn import svm\n",
        "import torchvision\n",
        "from tensorflow.keras.datasets import cifar10\n",
        "from sklearn.decomposition import PCA\n",
        "from sklearn.preprocessing import StandardScaler\n",
        "from sklearn.metrics import accuracy_score, precision_score, recall_score, f1_score\n",
        "import time\n",
        "import matplotlib.pyplot as plt\n",
        "from sklearn.model_selection import GridSearchCV\n",
        "from tensorflow.keras.preprocessing.image import ImageDataGenerator\n",
        "import numpy as np\n",
        "from tqdm import tqdm\n",
        "import pandas as pd"
      ]
    },
    {
      "cell_type": "markdown",
      "metadata": {
        "id": "ZvcR9ZkvbRw9"
      },
      "source": [
        "###Κατέβασμα, προετοιμασία και εμφάνιση δεδομένων\n",
        "\n"
      ]
    },
    {
      "cell_type": "markdown",
      "metadata": {
        "id": "zE3q7WrVV6Ko"
      },
      "source": [
        "**Κατέβασμα δεδομένων**"
      ]
    },
    {
      "cell_type": "code",
      "execution_count": 3,
      "metadata": {
        "id": "7KH5bPLYbRSn"
      },
      "outputs": [],
      "source": [
        "# Φόρτωση του CIFAR-10 dataset\n",
        "(x_train_original, y_train_original), (x_test_original, y_test_original) = cifar10.load_data()"
      ]
    },
    {
      "cell_type": "markdown",
      "metadata": {
        "id": "6S9ylnFGVzVQ"
      },
      "source": [
        "**Εμφάνιση δεδομένων**"
      ]
    },
    {
      "cell_type": "code",
      "execution_count": 4,
      "metadata": {
        "colab": {
          "base_uri": "https://localhost:8080/"
        },
        "id": "e4eDk5ncRbam",
        "outputId": "1e0decfa-80cc-431e-c4a8-dbbb03060096"
      },
      "outputs": [
        {
          "output_type": "stream",
          "name": "stdout",
          "text": [
            "(50000, 32, 32, 3)\n",
            "(50000, 1)\n",
            "(10000, 32, 32, 3)\n",
            "(10000, 1)\n"
          ]
        }
      ],
      "source": [
        "# Εκτύπωση των διαστάσεων\n",
        "print(x_train_original.shape)\n",
        "print(y_train_original.shape)\n",
        "print(x_test_original.shape)\n",
        "print(y_test_original.shape)"
      ]
    },
    {
      "cell_type": "code",
      "execution_count": 5,
      "metadata": {
        "colab": {
          "base_uri": "https://localhost:8080/"
        },
        "id": "WpTtLuCvQTHU",
        "outputId": "c9075332-b07d-4f7c-a2ba-2345a46702a3"
      },
      "outputs": [
        {
          "output_type": "stream",
          "name": "stdout",
          "text": [
            "0 Airplane\n",
            "1 Automobile\n",
            "2 Bird\n",
            "3 Cat\n",
            "4 Deer\n",
            "5 Dog\n",
            "6 Frog\n",
            "7 Horse\n",
            "8 Ship\n",
            "9 Truck\n"
          ]
        }
      ],
      "source": [
        "# CIFAR-10 class labels\n",
        "class_names = [\n",
        "    \"Airplane\", \"Automobile\", \"Bird\", \"Cat\", \"Deer\",\n",
        "    \"Dog\", \"Frog\", \"Horse\", \"Ship\", \"Truck\"\n",
        "]\n",
        "\n",
        "for i in class_names:\n",
        "  print(class_names.index(i), i)"
      ]
    },
    {
      "cell_type": "code",
      "execution_count": 6,
      "metadata": {
        "colab": {
          "base_uri": "https://localhost:8080/"
        },
        "id": "lh8FxSvQPsHi",
        "outputId": "524efab7-e774-44d2-deb5-285de6ed89fb"
      },
      "outputs": [
        {
          "output_type": "stream",
          "name": "stdout",
          "text": [
            "[[[ 59  62  63]\n",
            "  [ 43  46  45]\n",
            "  [ 50  48  43]\n",
            "  ...\n",
            "  [158 132 108]\n",
            "  [152 125 102]\n",
            "  [148 124 103]]\n",
            "\n",
            " [[ 16  20  20]\n",
            "  [  0   0   0]\n",
            "  [ 18   8   0]\n",
            "  ...\n",
            "  [123  88  55]\n",
            "  [119  83  50]\n",
            "  [122  87  57]]\n",
            "\n",
            " [[ 25  24  21]\n",
            "  [ 16   7   0]\n",
            "  [ 49  27   8]\n",
            "  ...\n",
            "  [118  84  50]\n",
            "  [120  84  50]\n",
            "  [109  73  42]]\n",
            "\n",
            " ...\n",
            "\n",
            " [[208 170  96]\n",
            "  [201 153  34]\n",
            "  [198 161  26]\n",
            "  ...\n",
            "  [160 133  70]\n",
            "  [ 56  31   7]\n",
            "  [ 53  34  20]]\n",
            "\n",
            " [[180 139  96]\n",
            "  [173 123  42]\n",
            "  [186 144  30]\n",
            "  ...\n",
            "  [184 148  94]\n",
            "  [ 97  62  34]\n",
            "  [ 83  53  34]]\n",
            "\n",
            " [[177 144 116]\n",
            "  [168 129  94]\n",
            "  [179 142  87]\n",
            "  ...\n",
            "  [216 184 140]\n",
            "  [151 118  84]\n",
            "  [123  92  72]]]\n",
            "-----------------------------\n",
            "[6]\n"
          ]
        }
      ],
      "source": [
        "# Εκτύπωση του διανύσματος της πρώτης εικόνας του train set\n",
        "print(x_train_original[0])\n",
        "print(\"-----------------------------\")\n",
        "# Εκτύπωση του αριθμού της κλάσης της εικόνας\n",
        "print(y_train_original[0])"
      ]
    },
    {
      "cell_type": "code",
      "execution_count": 7,
      "metadata": {
        "colab": {
          "base_uri": "https://localhost:8080/",
          "height": 192
        },
        "id": "3va47Z5K8PAY",
        "outputId": "2bf36be3-7966-4937-8c2c-a02dfb50f1a8"
      },
      "outputs": [
        {
          "output_type": "display_data",
          "data": {
            "text/plain": [
              "<Figure size 1500x500 with 10 Axes>"
            ],
            "image/png": "[encoded data removed]"
          },
          "metadata": {}
        }
      ],
      "source": [
        "# Εμφάνιση των πρώτων 10 πρώτων εικόνων του x_train_original\n",
        "num_images = 10\n",
        "\n",
        "plt.figure(figsize=(15, 5))\n",
        "for i in range(num_images):\n",
        "    image = x_train_original[i].reshape(32, 32, 3)\n",
        "    plt.subplot(1, num_images, i + 1)\n",
        "    plt.imshow(image.astype('uint8'))\n",
        "    plt.title(f\"Class: {class_names[y_train_original[i][0]]}\")\n",
        "    plt.axis('off')\n",
        "plt.tight_layout()"
      ]
    },
    {
      "cell_type": "code",
      "execution_count": 8,
      "metadata": {
        "colab": {
          "base_uri": "https://localhost:8080/",
          "height": 192
        },
        "id": "15e0pxTTGeSG",
        "outputId": "ca3d6652-6319-43f1-8539-2d4c08661742"
      },
      "outputs": [
        {
          "output_type": "display_data",
          "data": {
            "text/plain": [
              "<Figure size 1500x500 with 10 Axes>"
            ],
            "image/png": "[encoded data removed]"
          },
          "metadata": {}
        }
      ],
      "source": [
        "# Εμφάνιση των πρώτων 10 πρώτων εικόνων του x_test_original\n",
        "num_images = 10\n",
        "\n",
        "plt.figure(figsize=(15, 5))\n",
        "for i in range(num_images):\n",
        "    image = x_test_original[i].reshape(32, 32, 3)\n",
        "    plt.subplot(1, num_images, i + 1)\n",
        "    plt.imshow(image.astype('uint8'))\n",
        "    plt.title(f\"Class: {class_names[y_test_original[i][0]]}\")\n",
        "    plt.axis('off')\n",
        "plt.tight_layout()"
      ]
    },
    {
      "cell_type": "code",
      "source": [
        "x_train = x_train_original\n",
        "y_train = y_train_original\n",
        "x_test = x_test_original\n",
        "y_test = y_test_original"
      ],
      "metadata": {
        "id": "8ntrjI8mzUq0"
      },
      "execution_count": 9,
      "outputs": []
    },
    {
      "cell_type": "markdown",
      "metadata": {
        "id": "bFeE90BC8Uqv"
      },
      "source": [
        "**Data augmentation**"
      ]
    },
    {
      "cell_type": "code",
      "execution_count": 9,
      "metadata": {
        "colab": {
          "base_uri": "https://localhost:8080/"
        },
        "id": "qMTqQPJmSG1B",
        "outputId": "52f94ea8-ee50-4734-bb70-a4a52dd99997"
      },
      "outputs": [
        {
          "output_type": "stream",
          "name": "stdout",
          "text": [
            "(100000, 32, 32, 3)\n",
            "(100000, 1)\n"
          ]
        }
      ],
      "source": [
        "# Δημιουργία generator για data augmentation\n",
        "datagen = ImageDataGenerator(\n",
        "    rotation_range=15,             # Περιστροφή έως και 15 μοίρες\n",
        "    width_shift_range=0.1,         # Οριζόντια μετατόπιση έως 10%\n",
        "    height_shift_range=0.1,        # Κάθετη μετατόπιση έως 10%\n",
        "    horizontal_flip=True,          # Οριζόντια αναστροφή\n",
        "    brightness_range=[0.8, 1.2],   # Τυχαία φωτεινότητα\n",
        "    zoom_range=0.2                 # Τυχαίο zoom έως 20%\n",
        ")\n",
        "\n",
        "# Εφαρμογή augmentation στο train set\n",
        "augmented_images = []\n",
        "augmented_labels = []\n",
        "\n",
        "# Δημιουργία augmented set με ίδιο μέγεθος με το αρχικό\n",
        "for x_batch, y_batch in datagen.flow(x_train_original, y_train_original, batch_size=len(x_train_original), seed=42):\n",
        "    augmented_images = x_batch\n",
        "    augmented_labels = y_batch\n",
        "    break  # Σταματάμε μόλις δημιουργηθεί ένα augmented set με το ίδιο μέγεθος\n",
        "\n",
        "# Επαναφορά των augmented_labels σε μονοδιάστατο διάνυσμα\n",
        "augmented_labels = augmented_labels.reshape(-1, 1)\n",
        "\n",
        "# Συνδυασμός των αρχικών δεδομένων με τα augmented\n",
        "x_train = np.vstack([x_train_original, augmented_images])\n",
        "y_train = np.vstack([y_train_original, augmented_labels])\n",
        "\n",
        "print(x_train.shape)\n",
        "print(y_train.shape)"
      ]
    },
    {
      "cell_type": "code",
      "execution_count": 10,
      "metadata": {
        "id": "4q64hEA22B60",
        "colab": {
          "base_uri": "https://localhost:8080/"
        },
        "outputId": "8b57cfdd-35a7-4df7-c879-8ba9f631595e"
      },
      "outputs": [
        {
          "output_type": "stream",
          "name": "stdout",
          "text": [
            "(50000, 32, 32, 3)\n",
            "(50000, 1)\n"
          ]
        }
      ],
      "source": [
        "print(augmented_images.shape)\n",
        "print(augmented_labels.shape)"
      ]
    },
    {
      "cell_type": "code",
      "execution_count": 11,
      "metadata": {
        "id": "3PAyVWxZzvc4",
        "colab": {
          "base_uri": "https://localhost:8080/",
          "height": 192
        },
        "outputId": "a261a391-ea7b-49f4-9144-91bfcad10117"
      },
      "outputs": [
        {
          "output_type": "display_data",
          "data": {
            "text/plain": [
              "<Figure size 1500x500 with 10 Axes>"
            ],
            "image/png": "[encoded data removed]"
          },
          "metadata": {}
        }
      ],
      "source": [
        "# Εμφάνιση των πρώτων 10 πρώτων εικόνων του augmented_images\n",
        "num_images = 10\n",
        "\n",
        "plt.figure(figsize=(15, 5))\n",
        "for i in range(num_images):\n",
        "    image = augmented_images[i].reshape(32, 32, 3)\n",
        "    plt.subplot(1, num_images, i + 1)\n",
        "    plt.imshow(image.astype('uint8'))\n",
        "    plt.title(f\"Class: {class_names[augmented_labels[i][0]]}\")\n",
        "    plt.axis('off')\n",
        "plt.tight_layout()"
      ]
    },
    {
      "cell_type": "code",
      "execution_count": 12,
      "metadata": {
        "id": "cGzo-Aj8CEpH",
        "colab": {
          "base_uri": "https://localhost:8080/",
          "height": 354
        },
        "outputId": "65fcadd2-f059-4659-b22d-202da81b3a34"
      },
      "outputs": [
        {
          "output_type": "display_data",
          "data": {
            "text/plain": [
              "<Figure size 1500x500 with 20 Axes>"
            ],
            "image/png": "[encoded data removed]"
          },
          "metadata": {}
        }
      ],
      "source": [
        "# Εικόνες του x_train μετά το data augmentation\n",
        "num_images = 10\n",
        "index = -1\n",
        "plt.figure(figsize=(15, 5))\n",
        "for i in range(num_images):\n",
        "    index += 1\n",
        "\n",
        "    image = x_train[index].reshape(32, 32, 3)\n",
        "    plt.subplot(3, num_images, i + 1)\n",
        "    plt.imshow(image.astype('uint8'))\n",
        "    plt.title(f\"Index: {class_names[y_train[index][0]]}\")\n",
        "    plt.axis('off')\n",
        "\n",
        "    image = x_train[index+50000].reshape(32, 32, 3)\n",
        "    plt.subplot(1, num_images, i + 1)\n",
        "    plt.imshow(image.astype('uint8'))\n",
        "    plt.title(f\"Class: {class_names[y_train[index+50000][0]]}\")\n",
        "    plt.axis('off')\n",
        "\n",
        "plt.tight_layout()"
      ]
    },
    {
      "cell_type": "markdown",
      "metadata": {
        "id": "j0a0TLSISA1R"
      },
      "source": [
        "**Flatten**"
      ]
    },
    {
      "cell_type": "code",
      "execution_count": 10,
      "metadata": {
        "colab": {
          "base_uri": "https://localhost:8080/"
        },
        "id": "3z4IuNvTTDsP",
        "outputId": "412934c6-32cd-4170-b653-43ab7f379eb9"
      },
      "outputs": [
        {
          "output_type": "stream",
          "name": "stdout",
          "text": [
            "(50000, 3072)\n",
            "(10000, 3072)\n"
          ]
        }
      ],
      "source": [
        "# Μετατροπή των x_train και x_test σε μονοδιάστατους πίνακες\n",
        "x_train = x_train.reshape(x_train.shape[0], -1)\n",
        "x_test = x_test.reshape(x_test.shape[0], -1)\n",
        "\n",
        "print(x_train.shape)\n",
        "print(x_test.shape)"
      ]
    },
    {
      "cell_type": "code",
      "execution_count": 11,
      "metadata": {
        "colab": {
          "base_uri": "https://localhost:8080/"
        },
        "id": "Dm01xk_3TGoA",
        "outputId": "9039ba15-9f91-46be-dbca-87739119b50b"
      },
      "outputs": [
        {
          "output_type": "stream",
          "name": "stdout",
          "text": [
            "[ 59  62  63 ... 123  92  72]\n",
            "-----------------------------\n",
            "[6]\n"
          ]
        }
      ],
      "source": [
        "# Εκτύπωση του διανύσματος της πρώτης εικόνας του train set\n",
        "print(x_train[0])\n",
        "print(\"-----------------------------\")\n",
        "# Εκτύπωση του αριθμού της κλάσης της εικόνας\n",
        "print(y_train[0])"
      ]
    },
    {
      "cell_type": "markdown",
      "metadata": {
        "id": "KPIq8IoqcVx4"
      },
      "source": [
        "**PCA**"
      ]
    },
    {
      "cell_type": "code",
      "execution_count": 12,
      "metadata": {
        "colab": {
          "base_uri": "https://localhost:8080/"
        },
        "id": "SfMk5aWbcd9G",
        "outputId": "d340a4a8-3e9a-4ed3-90d7-71058326ffed"
      },
      "outputs": [
        {
          "output_type": "stream",
          "name": "stdout",
          "text": [
            "(50000, 99)\n",
            "(10000, 99)\n"
          ]
        }
      ],
      "source": [
        "# Χρήση PCA με διατήρηση του 90% των συνιστωσών\n",
        "pca = PCA(n_components=0.9)\n",
        "x_train = pca.fit_transform(x_train)\n",
        "x_test = pca.transform(x_test)\n",
        "\n",
        "print(x_train.shape)\n",
        "print(x_test.shape)"
      ]
    },
    {
      "cell_type": "markdown",
      "metadata": {
        "id": "gvbIZAspVsBn"
      },
      "source": [
        "**Κανονικοποίηση δεδομένων**"
      ]
    },
    {
      "cell_type": "code",
      "execution_count": 13,
      "metadata": {
        "id": "Ph-lojD8chhs"
      },
      "outputs": [],
      "source": [
        "# Κανονικοποίηση δεδομένων ώστε κάθε χαρακτηριστικό (κάθε στήλη) να έχει Μέση τιμή (mean) = 0 και Τυπική απόκλιση (std) = 1\n",
        "# x' = (x - mean) / std\n",
        "scaler = StandardScaler()\n",
        "x_train = scaler.fit_transform(x_train)\n",
        "x_test = scaler.transform(x_test)"
      ]
    },
    {
      "cell_type": "markdown",
      "metadata": {
        "id": "RvKebmKcc2Du"
      },
      "source": [
        "###SVM με linear kernel"
      ]
    },
    {
      "cell_type": "markdown",
      "metadata": {
        "id": "QPLz7c6s8tUQ"
      },
      "source": [
        "####Εκπαίδευση SVM μετά από Cross Validation"
      ]
    },
    {
      "cell_type": "markdown",
      "metadata": {
        "id": "lh0JZzI-81vI"
      },
      "source": [
        "**Δημιουργία SVM**"
      ]
    },
    {
      "cell_type": "code",
      "execution_count": null,
      "metadata": {
        "id": "LLDc3nLm9AHd"
      },
      "outputs": [],
      "source": [
        "svm_poly_kernel = svm.SVC(kernel='linear')"
      ]
    },
    {
      "cell_type": "markdown",
      "metadata": {
        "id": "WYpgBdyP8yQC"
      },
      "source": [
        "**Cross Validation για εύρεση βέλτιστων παραμέτρων**"
      ]
    },
    {
      "cell_type": "code",
      "execution_count": null,
      "metadata": {
        "id": "QOUAHmj39CEG"
      },
      "outputs": [],
      "source": [
        "# Ορισμός του πλέγματος υπερπαραμέτρων για το C\n",
        "param_grid = {'C': [1, 10, 30, 50, 100]}\n",
        "\n",
        "# GridSearchCV με Cross Validation\n",
        "grid_search = GridSearchCV(svm_poly_kernel, param_grid, cv=4, verbose=2, n_jobs=-1)"
      ]
    },
    {
      "cell_type": "markdown",
      "metadata": {
        "id": "mZ6kfpnl808-"
      },
      "source": [
        "**Εκπαίδευση SVM με τις βέλτιστες παραμέτρους**"
      ]
    },
    {
      "cell_type": "code",
      "execution_count": null,
      "metadata": {
        "id": "wMkkF7ty9M-A"
      },
      "outputs": [],
      "source": [
        "start_time = time.time()\n",
        "\n",
        "# Εκπαίδευση polynomial SVM με grid_search\n",
        "grid_search.fit(x_train, y_train.ravel())\n",
        "\n",
        "end_time = time.time()\n",
        "elapsed_time = end_time - start_time\n",
        "print(f\"Training time: {elapsed_time} seconds\")\n",
        "\n",
        "# Εκτύπωση των καλύτερων παραμέτρων\n",
        "print(\"Best parameters found: \", grid_search.best_params_)"
      ]
    },
    {
      "cell_type": "markdown",
      "metadata": {
        "id": "Bv7h7m2Ypoy0"
      },
      "source": [
        "**Αξιολόγηση στα δεδομένα του test set.**"
      ]
    },
    {
      "cell_type": "code",
      "execution_count": null,
      "metadata": {
        "id": "-BGcT6qMppZq"
      },
      "outputs": [],
      "source": [
        "# Πρόβλεψη στα δείγματα του test set\n",
        "y_pred = grid_search.best_estimator_.predict(x_test)\n",
        "\n",
        "accuracy = accuracy_score(y_test, y_pred)\n",
        "precision = precision_score(y_test, y_pred, average='weighted')\n",
        "recall = recall_score(y_test, y_pred, average='weighted')\n",
        "f1 = f1_score(y_test, y_pred, average='weighted')\n",
        "\n",
        "# Εκτύπωση μετρικών\n",
        "print(f'Accuracy: {100 * accuracy:.2f}%')\n",
        "print(f'Precision: {100 * precision:.2f}%')\n",
        "print(f'Recall: {100 * recall:.2f}%')\n",
        "print(f'F1 Score: {100 * f1:.2f}%')"
      ]
    },
    {
      "cell_type": "code",
      "execution_count": null,
      "metadata": {
        "id": "CLz6wenCoRAX"
      },
      "outputs": [],
      "source": [
        "# Δημιουργία DataFrame με στήλη που δείχνει αν η πρόβλεψη είναι σωστή\n",
        "results_df = pd.DataFrame({\n",
        "    'True Labels': y_test.ravel(),\n",
        "    'Predicted Labels': y_pred\n",
        "})\n",
        "results_df['Correct'] = results_df['True Labels'] == results_df['Predicted Labels']\n",
        "\n",
        "# Στυλ για highlight\n",
        "def highlight_correct(row):\n",
        "    if row['Correct']:\n",
        "        return ['background-color: lightgreen'] * len(row)\n",
        "    else:\n",
        "        return ['background-color: lightcoral'] * len(row)\n",
        "\n",
        "# Εφαρμογή highlight στο DataFrame\n",
        "styled_df = results_df.style.apply(highlight_correct, axis=1)\n",
        "\n",
        "# Εμφάνιση των πρώτων 10 γραμμών\n",
        "print(results_df.head(10))"
      ]
    },
    {
      "cell_type": "markdown",
      "metadata": {
        "id": "QoMCRMRbprG6"
      },
      "source": [
        "**Αξιολόγηση στα δεδομένα του train set.**"
      ]
    },
    {
      "cell_type": "code",
      "execution_count": null,
      "metadata": {
        "id": "CX0a1Al6ptzj"
      },
      "outputs": [],
      "source": [
        "# Πρόβλεψη στα δείγματα του train set\n",
        "y_pred = grid_search.best_estimator_.predict(x_train)\n",
        "\n",
        "accuracy = accuracy_score(y_train, y_pred)\n",
        "precision = precision_score(y_train, y_pred, average='weighted')\n",
        "recall = recall_score(y_train, y_pred, average='weighted')\n",
        "f1 = f1_score(y_train, y_pred, average='weighted')\n",
        "\n",
        "# Εκτύπωση μετρικών\n",
        "print(f'Accuracy: {100 * accuracy:.2f}%')\n",
        "print(f'Precision: {100 * precision:.2f}%')\n",
        "print(f'Recall: {100 * recall:.2f}%')\n",
        "print(f'F1 Score: {100 * f1:.2f}%')"
      ]
    },
    {
      "cell_type": "code",
      "execution_count": null,
      "metadata": {
        "id": "YJSBdIzXoU1v"
      },
      "outputs": [],
      "source": [
        "# Δημιουργία DataFrame με στήλη που δείχνει αν η πρόβλεψη είναι σωστή\n",
        "results_df = pd.DataFrame({\n",
        "    'True Labels': y_train.ravel(),\n",
        "    'Predicted Labels': y_pred\n",
        "})\n",
        "results_df['Correct'] = results_df['True Labels'] == results_df['Predicted Labels']\n",
        "\n",
        "# Στυλ για highlight\n",
        "def highlight_correct(row):\n",
        "    if row['Correct']:\n",
        "        return ['background-color: lightgreen'] * len(row)\n",
        "    else:\n",
        "        return ['background-color: lightcoral'] * len(row)\n",
        "\n",
        "# Εφαρμογή highlight στο DataFrame\n",
        "styled_df = results_df.style.apply(highlight_correct, axis=1)\n",
        "\n",
        "# Εμφάνιση των πρώτων 10 γραμμών\n",
        "print(results_df.head(10))"
      ]
    },
    {
      "cell_type": "markdown",
      "metadata": {
        "id": "bWsJanqM8n0B"
      },
      "source": [
        "####Εκπαίδευση SVM με απλό ορισμό παραμέτρων"
      ]
    },
    {
      "cell_type": "markdown",
      "metadata": {
        "id": "DDyKUrrsaR6r"
      },
      "source": [
        "**Δημιουργία SVM**"
      ]
    },
    {
      "cell_type": "code",
      "execution_count": 14,
      "metadata": {
        "id": "KTN8feb8aErm"
      },
      "outputs": [],
      "source": [
        "svm_linear_kernel = svm.SVC(kernel='linear', C=1)"
      ]
    },
    {
      "cell_type": "markdown",
      "metadata": {
        "id": "alDzGzFoc62k"
      },
      "source": [
        "**Εκπαίδευση SVM**"
      ]
    },
    {
      "cell_type": "code",
      "execution_count": 15,
      "metadata": {
        "colab": {
          "base_uri": "https://localhost:8080/"
        },
        "id": "_Z57s774crWx",
        "outputId": "48545217-2fdc-4a97-dcd0-ee9d5f20464a"
      },
      "outputs": [
        {
          "output_type": "stream",
          "name": "stdout",
          "text": [
            "Training time: 1785.4973723888397 seconds\n"
          ]
        }
      ],
      "source": [
        "start_time = time.time()\n",
        "\n",
        "# Εκπαίδευση SVM με linear kernel\n",
        "svm_linear_kernel.fit(x_train, y_train.ravel())\n",
        "\n",
        "end_time = time.time()\n",
        "elapsed_time = end_time - start_time\n",
        "print(f\"Training time: {elapsed_time} seconds\")"
      ]
    },
    {
      "cell_type": "markdown",
      "metadata": {
        "id": "Omjs_XotXE5X"
      },
      "source": [
        "**Αξιολόγηση στα δεδομένα του test set.**"
      ]
    },
    {
      "cell_type": "code",
      "execution_count": 16,
      "metadata": {
        "id": "plTbR4eeaIkK",
        "colab": {
          "base_uri": "https://localhost:8080/"
        },
        "outputId": "1d8ded93-fe18-4c7f-c97a-f4d37018e37a"
      },
      "outputs": [
        {
          "output_type": "stream",
          "name": "stdout",
          "text": [
            "Accuracy: 40.79%\n",
            "Precision: 40.52%\n",
            "Recall: 40.79%\n",
            "F1 Score: 40.54%\n"
          ]
        }
      ],
      "source": [
        "# Πρόβλεψη στα δείγματα του test set\n",
        "y_pred = svm_linear_kernel.predict(x_test)\n",
        "\n",
        "accuracy = accuracy_score(y_test_original, y_pred)\n",
        "precision = precision_score(y_test_original, y_pred, average='weighted')\n",
        "recall = recall_score(y_test_original, y_pred, average='weighted')\n",
        "f1 = f1_score(y_test_original, y_pred, average='weighted')\n",
        "\n",
        "# Εκτύπωση μετρικών\n",
        "print(f'Accuracy: {100 * accuracy:.2f}%')\n",
        "print(f'Precision: {100 * precision:.2f}%')\n",
        "print(f'Recall: {100 * recall:.2f}%')\n",
        "print(f'F1 Score: {100 * f1:.2f}%')"
      ]
    },
    {
      "cell_type": "code",
      "execution_count": 17,
      "metadata": {
        "id": "3L18nEeyoOEP",
        "colab": {
          "base_uri": "https://localhost:8080/"
        },
        "outputId": "78c2b97b-5fd2-4b32-fc06-aecbc571d88d"
      },
      "outputs": [
        {
          "output_type": "stream",
          "name": "stdout",
          "text": [
            "   True Labels  Predicted Labels  Correct\n",
            "0            3                 3     True\n",
            "1            8                 9    False\n",
            "2            8                 8     True\n",
            "3            0                 8    False\n",
            "4            6                 4    False\n",
            "5            6                 6     True\n",
            "6            1                 3    False\n",
            "7            6                 6     True\n",
            "8            3                 2    False\n",
            "9            1                 1     True\n"
          ]
        }
      ],
      "source": [
        "# Δημιουργία DataFrame με στήλη που δείχνει αν η πρόβλεψη είναι σωστή\n",
        "results_df = pd.DataFrame({\n",
        "    'True Labels': y_test_original.ravel(),\n",
        "    'Predicted Labels': y_pred\n",
        "})\n",
        "results_df['Correct'] = results_df['True Labels'] == results_df['Predicted Labels']\n",
        "\n",
        "# Στυλ για highlight\n",
        "def highlight_correct(row):\n",
        "    if row['Correct']:\n",
        "        return ['background-color: lightgreen'] * len(row)\n",
        "    else:\n",
        "        return ['background-color: lightcoral'] * len(row)\n",
        "\n",
        "# Εφαρμογή highlight στο DataFrame\n",
        "styled_df = results_df.style.apply(highlight_correct, axis=1)\n",
        "\n",
        "# Εμφάνιση των πρώτων 10 γραμμών\n",
        "print(results_df.head(10))"
      ]
    },
    {
      "cell_type": "markdown",
      "metadata": {
        "id": "mFxdu6dhXI4t"
      },
      "source": [
        "**Αξιολόγηση στα δεδομένα του train set.**\n"
      ]
    },
    {
      "cell_type": "code",
      "execution_count": 18,
      "metadata": {
        "id": "nGNEpBMpWiNR",
        "colab": {
          "base_uri": "https://localhost:8080/"
        },
        "outputId": "67403c3e-ecb8-49fb-fff8-6df277652730"
      },
      "outputs": [
        {
          "output_type": "stream",
          "name": "stdout",
          "text": [
            "Accuracy: 42.03%\n",
            "Precision: 41.75%\n",
            "Recall: 42.03%\n",
            "F1 Score: 41.75%\n"
          ]
        }
      ],
      "source": [
        "# Πρόβλεψη στα δείγματα του train set\n",
        "y_pred = svm_linear_kernel.predict(x_train)\n",
        "\n",
        "accuracy = accuracy_score(y_train, y_pred)\n",
        "precision = precision_score(y_train, y_pred, average='weighted')\n",
        "recall = recall_score(y_train, y_pred, average='weighted')\n",
        "f1 = f1_score(y_train, y_pred, average='weighted')\n",
        "\n",
        "# Εκτύπωση μετρικών\n",
        "print(f'Accuracy: {100 * accuracy:.2f}%')\n",
        "print(f'Precision: {100 * precision:.2f}%')\n",
        "print(f'Recall: {100 * recall:.2f}%')\n",
        "print(f'F1 Score: {100 * f1:.2f}%')"
      ]
    },
    {
      "cell_type": "code",
      "execution_count": 19,
      "metadata": {
        "id": "fl3OuNlGoJuP",
        "colab": {
          "base_uri": "https://localhost:8080/"
        },
        "outputId": "07227df1-3fce-4e6e-b1d4-a2dc04b593f8"
      },
      "outputs": [
        {
          "output_type": "stream",
          "name": "stdout",
          "text": [
            "   True Labels  Predicted Labels  Correct\n",
            "0            6                 6     True\n",
            "1            9                 1    False\n",
            "2            9                 9     True\n",
            "3            4                 6    False\n",
            "4            1                 9    False\n",
            "5            1                 7    False\n",
            "6            2                 2     True\n",
            "7            7                 7     True\n",
            "8            8                 8     True\n",
            "9            3                 7    False\n"
          ]
        }
      ],
      "source": [
        "# Δημιουργία DataFrame με στήλη που δείχνει αν η πρόβλεψη είναι σωστή\n",
        "results_df = pd.DataFrame({\n",
        "    'True Labels': y_train.ravel(),\n",
        "    'Predicted Labels': y_pred\n",
        "})\n",
        "results_df['Correct'] = results_df['True Labels'] == results_df['Predicted Labels']\n",
        "\n",
        "# Στυλ για highlight\n",
        "def highlight_correct(row):\n",
        "    if row['Correct']:\n",
        "        return ['background-color: lightgreen'] * len(row)\n",
        "    else:\n",
        "        return ['background-color: lightcoral'] * len(row)\n",
        "\n",
        "# Εφαρμογή highlight στο DataFrame\n",
        "styled_df = results_df.style.apply(highlight_correct, axis=1)\n",
        "\n",
        "# Εμφάνιση των πρώτων 10 γραμμών\n",
        "print(results_df.head(10))"
      ]
    },
    {
      "cell_type": "markdown",
      "metadata": {
        "id": "J2rRoK_QbSmV"
      },
      "source": [
        "###SVM με polynomial kernel"
      ]
    },
    {
      "cell_type": "markdown",
      "metadata": {
        "id": "zm7Ce82L5uQV"
      },
      "source": [
        "####Εκπαίδευση SVM μετά από Cross Validation"
      ]
    },
    {
      "cell_type": "markdown",
      "metadata": {
        "id": "s8CgOZg27Cov"
      },
      "source": [
        "**Δημιουργία SVM**"
      ]
    },
    {
      "cell_type": "code",
      "execution_count": null,
      "metadata": {
        "id": "6Z9-XaeK7FrM"
      },
      "outputs": [],
      "source": [
        "svm_poly_kernel = svm.SVC(kernel='poly')"
      ]
    },
    {
      "cell_type": "markdown",
      "metadata": {
        "id": "YbAlDgIt7IYv"
      },
      "source": [
        "**Cross Validation για εύρεση βέλτιστων παραμέτρων**"
      ]
    },
    {
      "cell_type": "code",
      "execution_count": null,
      "metadata": {
        "id": "Z6JDrTWnKJqd"
      },
      "outputs": [],
      "source": [
        "# Ορισμός του πλέγματος υπερπαραμέτρων για το C και το degree\n",
        "param_grid = {'C': [10, 30, 50], 'degree': [2, 3, 4]}\n",
        "\n",
        "# GridSearchCV με Cross Validation\n",
        "grid_search = GridSearchCV(svm_poly_kernel, param_grid, cv=4, verbose=2, n_jobs=-1)"
      ]
    },
    {
      "cell_type": "markdown",
      "metadata": {
        "id": "rQ-hECUb7Nn8"
      },
      "source": [
        "**Εκπαίδευση SVM με τις βέλτιστες παραμέτρους**"
      ]
    },
    {
      "cell_type": "code",
      "execution_count": null,
      "metadata": {
        "id": "EXnFJPC97W0X"
      },
      "outputs": [],
      "source": [
        "start_time = time.time()\n",
        "\n",
        "# Εκπαίδευση polynomial SVM με grid_search\n",
        "grid_search.fit(x_train, y_train.ravel())\n",
        "\n",
        "end_time = time.time()\n",
        "elapsed_time = end_time - start_time\n",
        "print(f\"Training time: {elapsed_time} seconds\")\n",
        "\n",
        "# Εκτύπωση των καλύτερων παραμέτρων\n",
        "print(\"Best parameters found: \", grid_search.best_params_)"
      ]
    },
    {
      "cell_type": "markdown",
      "metadata": {
        "id": "61nQN6BNqNyG"
      },
      "source": [
        "**Αξιολόγηση στα δεδομένα του test set.**"
      ]
    },
    {
      "cell_type": "code",
      "execution_count": null,
      "metadata": {
        "id": "SxU9lNg8qCqm"
      },
      "outputs": [],
      "source": [
        "# Πρόβλεψη στα δείγματα του test set\n",
        "y_pred = grid_search.best_estimator_.predict(x_test)\n",
        "\n",
        "accuracy = accuracy_score(y_test, y_pred)\n",
        "precision = precision_score(y_test, y_pred, average='weighted')\n",
        "recall = recall_score(y_test, y_pred, average='weighted')\n",
        "f1 = f1_score(y_test, y_pred, average='weighted')\n",
        "\n",
        "# Εκτύπωση μετρικών\n",
        "print(f'Accuracy: {100 * accuracy:.2f}%')\n",
        "print(f'Precision: {100 * precision:.2f}%')\n",
        "print(f'Recall: {100 * recall:.2f}%')\n",
        "print(f'F1 Score: {100 * f1:.2f}%')"
      ]
    },
    {
      "cell_type": "code",
      "execution_count": null,
      "metadata": {
        "id": "YwGTZ5RPn_xu"
      },
      "outputs": [],
      "source": [
        "# Δημιουργία DataFrame με στήλη που δείχνει αν η πρόβλεψη είναι σωστή\n",
        "results_df = pd.DataFrame({\n",
        "    'True Labels': y_test.ravel(),\n",
        "    'Predicted Labels': y_pred\n",
        "})\n",
        "results_df['Correct'] = results_df['True Labels'] == results_df['Predicted Labels']\n",
        "\n",
        "# Στυλ για highlight\n",
        "def highlight_correct(row):\n",
        "    if row['Correct']:\n",
        "        return ['background-color: lightgreen'] * len(row)\n",
        "    else:\n",
        "        return ['background-color: lightcoral'] * len(row)\n",
        "\n",
        "# Εφαρμογή highlight στο DataFrame\n",
        "styled_df = results_df.style.apply(highlight_correct, axis=1)\n",
        "\n",
        "# Εμφάνιση των πρώτων 10 γραμμών\n",
        "print(results_df.head(10))"
      ]
    },
    {
      "cell_type": "markdown",
      "metadata": {
        "id": "RsiNtQTIqPx1"
      },
      "source": [
        "**Αξιολόγηση στα δεδομένα του train set.**"
      ]
    },
    {
      "cell_type": "code",
      "execution_count": null,
      "metadata": {
        "id": "CBoVCZTNqEv3"
      },
      "outputs": [],
      "source": [
        "# Πρόβλεψη στα δείγματα του train set\n",
        "y_pred = grid_search.best_estimator_.predict(x_train)\n",
        "\n",
        "accuracy = accuracy_score(y_train, y_pred)\n",
        "precision = precision_score(y_train, y_pred, average='weighted')\n",
        "recall = recall_score(y_train, y_pred, average='weighted')\n",
        "f1 = f1_score(y_train, y_pred, average='weighted')\n",
        "\n",
        "# Εκτύπωση μετρικών\n",
        "print(f'Accuracy: {100 * accuracy:.2f}%')\n",
        "print(f'Precision: {100 * precision:.2f}%')\n",
        "print(f'Recall: {100 * recall:.2f}%')\n",
        "print(f'F1 Score: {100 * f1:.2f}%')"
      ]
    },
    {
      "cell_type": "code",
      "execution_count": null,
      "metadata": {
        "id": "-dEu-bhroC-4"
      },
      "outputs": [],
      "source": [
        "# Δημιουργία DataFrame με στήλη που δείχνει αν η πρόβλεψη είναι σωστή\n",
        "results_df = pd.DataFrame({\n",
        "    'True Labels': y_train.ravel(),\n",
        "    'Predicted Labels': y_pred\n",
        "})\n",
        "results_df['Correct'] = results_df['True Labels'] == results_df['Predicted Labels']\n",
        "\n",
        "# Στυλ για highlight\n",
        "def highlight_correct(row):\n",
        "    if row['Correct']:\n",
        "        return ['background-color: lightgreen'] * len(row)\n",
        "    else:\n",
        "        return ['background-color: lightcoral'] * len(row)\n",
        "\n",
        "# Εφαρμογή highlight στο DataFrame\n",
        "styled_df = results_df.style.apply(highlight_correct, axis=1)\n",
        "\n",
        "# Εμφάνιση των πρώτων 10 γραμμών\n",
        "print(results_df.head(10))"
      ]
    },
    {
      "cell_type": "markdown",
      "metadata": {
        "id": "v2E7T-4t6jbw"
      },
      "source": [
        "####Εκπαίδευση SVM με απλό ορισμό παραμέτρων"
      ]
    },
    {
      "cell_type": "markdown",
      "metadata": {
        "id": "TAEZE9xr59HO"
      },
      "source": [
        "**Δημιουργία SVM**"
      ]
    },
    {
      "cell_type": "code",
      "execution_count": null,
      "metadata": {
        "id": "srL9mP5v58iq"
      },
      "outputs": [],
      "source": [
        "svm_poly_kernel = svm.SVC(kernel='poly', C=30, degree=3)"
      ]
    },
    {
      "cell_type": "markdown",
      "metadata": {
        "id": "T-6Kgl_a6U42"
      },
      "source": [
        "**Εκπαίδευση SVM**"
      ]
    },
    {
      "cell_type": "code",
      "execution_count": null,
      "metadata": {
        "colab": {
          "base_uri": "https://localhost:8080/"
        },
        "id": "cOg194UKbnWo",
        "outputId": "04ab8270-c6a0-4e02-82b1-60ca2b3101f5"
      },
      "outputs": [
        {
          "output_type": "stream",
          "name": "stdout",
          "text": [
            "Training time: 9710.981819868088 seconds\n"
          ]
        }
      ],
      "source": [
        "start_time = time.time()\n",
        "\n",
        "# Εκπαίδευση SVM με polynomial kernel\n",
        "svm_poly_kernel.fit(x_train, y_train.ravel())\n",
        "\n",
        "end_time = time.time()\n",
        "elapsed_time = end_time - start_time\n",
        "print(f\"Training time: {elapsed_time} seconds\")"
      ]
    },
    {
      "cell_type": "markdown",
      "metadata": {
        "id": "_pZwBJi566T-"
      },
      "source": [
        "**Αξιολόγηση στα δεδομένα του test set.**"
      ]
    },
    {
      "cell_type": "code",
      "execution_count": null,
      "metadata": {
        "colab": {
          "base_uri": "https://localhost:8080/"
        },
        "id": "iDH9VGar63eu",
        "outputId": "591837b4-4bed-4295-fafe-aa37bc6e8615"
      },
      "outputs": [
        {
          "output_type": "stream",
          "name": "stdout",
          "text": [
            "Accuracy: 48.75%\n",
            "Precision: 48.88%\n",
            "Recall: 48.75%\n",
            "F1 Score: 48.49%\n"
          ]
        }
      ],
      "source": [
        "# Πρόβλεψη στα δείγματα του test set\n",
        "y_pred = svm_poly_kernel.predict(x_test)\n",
        "\n",
        "accuracy = accuracy_score(y_test, y_pred)\n",
        "precision = precision_score(y_test, y_pred, average='weighted')\n",
        "recall = recall_score(y_test, y_pred, average='weighted')\n",
        "f1 = f1_score(y_test, y_pred, average='weighted')\n",
        "\n",
        "# Εκτύπωση μετρικών\n",
        "print(f'Accuracy: {100 * accuracy:.2f}%')\n",
        "print(f'Precision: {100 * precision:.2f}%')\n",
        "print(f'Recall: {100 * recall:.2f}%')\n",
        "print(f'F1 Score: {100 * f1:.2f}%')"
      ]
    },
    {
      "cell_type": "code",
      "execution_count": null,
      "metadata": {
        "colab": {
          "base_uri": "https://localhost:8080/"
        },
        "id": "SPEEzfdZaAoK",
        "outputId": "de284050-0ed2-4075-f3bf-abb7e68d1237"
      },
      "outputs": [
        {
          "output_type": "stream",
          "name": "stdout",
          "text": [
            "   True Labels  Predicted Labels  Correct\n",
            "0            3                 6    False\n",
            "1            8                 1    False\n",
            "2            8                 8     True\n",
            "3            0                 0     True\n",
            "4            6                 4    False\n",
            "5            6                 6     True\n",
            "6            1                 1     True\n",
            "7            6                 6     True\n",
            "8            3                 4    False\n",
            "9            1                 1     True\n"
          ]
        }
      ],
      "source": [
        "# Δημιουργία DataFrame με στήλη που δείχνει αν η πρόβλεψη είναι σωστή\n",
        "results_df = pd.DataFrame({\n",
        "    'True Labels': y_test.ravel(),\n",
        "    'Predicted Labels': y_pred\n",
        "})\n",
        "results_df['Correct'] = results_df['True Labels'] == results_df['Predicted Labels']\n",
        "\n",
        "# Στυλ για highlight\n",
        "def highlight_correct(row):\n",
        "    if row['Correct']:\n",
        "        return ['background-color: lightgreen'] * len(row)\n",
        "    else:\n",
        "        return ['background-color: lightcoral'] * len(row)\n",
        "\n",
        "# Εφαρμογή highlight στο DataFrame\n",
        "styled_df = results_df.style.apply(highlight_correct, axis=1)\n",
        "\n",
        "# Εμφάνιση των πρώτων 10 γραμμών\n",
        "print(results_df.head(10))\n",
        "#styled_df"
      ]
    },
    {
      "cell_type": "markdown",
      "metadata": {
        "id": "ZUgts8_l661V"
      },
      "source": [
        "**Αξιολόγηση στα δεδομένα του train set.**"
      ]
    },
    {
      "cell_type": "code",
      "execution_count": null,
      "metadata": {
        "colab": {
          "base_uri": "https://localhost:8080/"
        },
        "id": "OEiWaOlR687_",
        "outputId": "875ec9e2-68f3-4b93-c5ca-25b14a0feede"
      },
      "outputs": [
        {
          "output_type": "stream",
          "name": "stdout",
          "text": [
            "Accuracy: 98.66%\n",
            "Precision: 98.71%\n",
            "Recall: 98.66%\n",
            "F1 Score: 98.67%\n"
          ]
        }
      ],
      "source": [
        "# Πρόβλεψη στα δείγματα του train set\n",
        "y_pred = svm_poly_kernel.predict(x_train)\n",
        "\n",
        "accuracy = accuracy_score(y_train, y_pred)\n",
        "precision = precision_score(y_train, y_pred, average='weighted')\n",
        "recall = recall_score(y_train, y_pred, average='weighted')\n",
        "f1 = f1_score(y_train, y_pred, average='weighted')\n",
        "\n",
        "# Εκτύπωση μετρικών\n",
        "print(f'Accuracy: {100 * accuracy:.2f}%')\n",
        "print(f'Precision: {100 * precision:.2f}%')\n",
        "print(f'Recall: {100 * recall:.2f}%')\n",
        "print(f'F1 Score: {100 * f1:.2f}%')"
      ]
    },
    {
      "cell_type": "code",
      "execution_count": null,
      "metadata": {
        "colab": {
          "base_uri": "https://localhost:8080/"
        },
        "id": "TjHZS1juaGeN",
        "outputId": "a07c696e-1522-4028-d835-79ff04f12d00"
      },
      "outputs": [
        {
          "metadata": {
            "tags": null
          },
          "name": "stdout",
          "output_type": "stream",
          "text": [
            "   True Labels  Predicted Labels  Correct\n",
            "0            6                 6     True\n",
            "1            9                 9     True\n",
            "2            9                 9     True\n",
            "3            4                 4     True\n",
            "4            1                 1     True\n",
            "5            1                 1     True\n",
            "6            2                 2     True\n",
            "7            7                 7     True\n",
            "8            8                 8     True\n",
            "9            3                 3     True\n"
          ]
        }
      ],
      "source": [
        "# Δημιουργία DataFrame με στήλη που δείχνει αν η πρόβλεψη είναι σωστή\n",
        "results_df = pd.DataFrame({\n",
        "    'True Labels': y_train.ravel(),\n",
        "    'Predicted Labels': y_pred\n",
        "})\n",
        "results_df['Correct'] = results_df['True Labels'] == results_df['Predicted Labels']\n",
        "\n",
        "# Στυλ για highlight\n",
        "def highlight_correct(row):\n",
        "    if row['Correct']:\n",
        "        return ['background-color: lightgreen'] * len(row)\n",
        "    else:\n",
        "        return ['background-color: lightcoral'] * len(row)\n",
        "\n",
        "# Εφαρμογή highlight στο DataFrame\n",
        "styled_df = results_df.style.apply(highlight_correct, axis=1)\n",
        "\n",
        "# Εμφάνιση των πρώτων 10 γραμμών\n",
        "print(results_df.head(10))\n",
        "#styled_df"
      ]
    },
    {
      "cell_type": "markdown",
      "metadata": {
        "id": "xA1TXXHu49pS"
      },
      "source": [
        "###SVM με sigmoid kernel"
      ]
    },
    {
      "cell_type": "markdown",
      "metadata": {
        "id": "xH5Nc7Bn-B0r"
      },
      "source": [
        "**Δημιουργία SVM**"
      ]
    },
    {
      "cell_type": "code",
      "execution_count": null,
      "metadata": {
        "id": "Jl0O2M-14oey"
      },
      "outputs": [],
      "source": [
        "svm_sigmoid_kernel = svm.SVC(kernel='sigmoid', C=1, gamma='scale')"
      ]
    },
    {
      "cell_type": "markdown",
      "metadata": {
        "id": "gvpH0vvC-E51"
      },
      "source": [
        "**Εκπαίδευση SVM**"
      ]
    },
    {
      "cell_type": "code",
      "execution_count": null,
      "metadata": {
        "id": "qdvdmg4m99PX"
      },
      "outputs": [],
      "source": [
        "start_time = time.time()\n",
        "\n",
        "# Εκπαίδευση SVM με polynomial kernel\n",
        "svm_sigmoid_kernel.fit(x_train, y_train.ravel())\n",
        "\n",
        "end_time = time.time()\n",
        "elapsed_time = end_time - start_time\n",
        "print(f\"Training time: {elapsed_time} seconds\")"
      ]
    },
    {
      "cell_type": "markdown",
      "metadata": {
        "id": "QsK6YmJb-Sew"
      },
      "source": [
        "**Αξιολόγηση στα δεδομένα του test set.**"
      ]
    },
    {
      "cell_type": "code",
      "execution_count": null,
      "metadata": {
        "id": "C-ZvklbJ-LDS"
      },
      "outputs": [],
      "source": [
        "# Πρόβλεψη στα δείγματα του test set\n",
        "y_pred = svm_sigmoid_kernel.predict(x_test)\n",
        "\n",
        "accuracy = accuracy_score(y_test, y_pred)\n",
        "precision = precision_score(y_test, y_pred, average='weighted')\n",
        "recall = recall_score(y_test, y_pred, average='weighted')\n",
        "f1 = f1_score(y_test, y_pred, average='weighted')\n",
        "\n",
        "# Εκτύπωση μετρικών\n",
        "print(f'Accuracy: {100 * accuracy:.2f}%')\n",
        "print(f'Precision: {100 * precision:.2f}%')\n",
        "print(f'Recall: {100 * recall:.2f}%')\n",
        "print(f'F1 Score: {100 * f1:.2f}%')"
      ]
    },
    {
      "cell_type": "code",
      "execution_count": null,
      "metadata": {
        "id": "R3mDHUK2UMTJ"
      },
      "outputs": [],
      "source": [
        "# Δημιουργία DataFrame με στήλη που δείχνει αν η πρόβλεψη είναι σωστή\n",
        "results_df = pd.DataFrame({\n",
        "    'True Labels': y_test.ravel(),\n",
        "    'Predicted Labels': y_pred\n",
        "})\n",
        "results_df['Correct'] = results_df['True Labels'] == results_df['Predicted Labels']\n",
        "\n",
        "# Στυλ για highlight\n",
        "def highlight_correct(row):\n",
        "    if row['Correct']:\n",
        "        return ['background-color: lightgreen'] * len(row)\n",
        "    else:\n",
        "        return ['background-color: lightcoral'] * len(row)\n",
        "\n",
        "# Εφαρμογή highlight στο DataFrame\n",
        "styled_df = results_df.style.apply(highlight_correct, axis=1)\n",
        "\n",
        "# Εμφάνιση των πρώτων 10 γραμμών\n",
        "print(results_df.head(10))"
      ]
    },
    {
      "cell_type": "markdown",
      "metadata": {
        "id": "xA5Cy4dl-PRS"
      },
      "source": [
        "**Αξιολόγηση στα δεδομένα του train set.**"
      ]
    },
    {
      "cell_type": "code",
      "execution_count": null,
      "metadata": {
        "id": "sAanBotZ-Liq"
      },
      "outputs": [],
      "source": [
        "# Πρόβλεψη στα δείγματα του train set\n",
        "y_pred = svm_sigmoid_kernel.predict(x_train)\n",
        "\n",
        "accuracy = accuracy_score(y_train, y_pred)\n",
        "precision = precision_score(y_train, y_pred, average='weighted')\n",
        "recall = recall_score(y_train, y_pred, average='weighted')\n",
        "f1 = f1_score(y_train, y_pred, average='weighted')\n",
        "\n",
        "# Εκτύπωση μετρικών\n",
        "print(f'Accuracy: {100 * accuracy:.2f}%')\n",
        "print(f'Precision: {100 * precision:.2f}%')\n",
        "print(f'Recall: {100 * recall:.2f}%')\n",
        "print(f'F1 Score: {100 * f1:.2f}%')"
      ]
    },
    {
      "cell_type": "code",
      "execution_count": null,
      "metadata": {
        "id": "Mq6wk49GYkrI"
      },
      "outputs": [],
      "source": [
        "# Δημιουργία DataFrame με στήλη που δείχνει αν η πρόβλεψη είναι σωστή\n",
        "results_df = pd.DataFrame({\n",
        "    'True Labels': y_train.ravel(),\n",
        "    'Predicted Labels': y_pred\n",
        "})\n",
        "results_df['Correct'] = results_df['True Labels'] == results_df['Predicted Labels']\n",
        "\n",
        "# Στυλ για highlight\n",
        "def highlight_correct(row):\n",
        "    if row['Correct']:\n",
        "        return ['background-color: lightgreen'] * len(row)\n",
        "    else:\n",
        "        return ['background-color: lightcoral'] * len(row)\n",
        "\n",
        "# Εφαρμογή highlight στο DataFrame\n",
        "styled_df = results_df.style.apply(highlight_correct, axis=1)\n",
        "\n",
        "# Εμφάνιση των πρώτων 10 γραμμών\n",
        "print(results_df.head(10))"
      ]
    },
    {
      "cell_type": "markdown",
      "source": [
        "###SVM με RBF kernel"
      ],
      "metadata": {
        "id": "55ksyz3nxlDd"
      }
    },
    {
      "cell_type": "markdown",
      "source": [
        "####Εκπαίδευση SVM μετά από Cross Validation"
      ],
      "metadata": {
        "id": "fCkhe1kt3IrF"
      }
    },
    {
      "cell_type": "markdown",
      "source": [
        "**Δημιουργία SVM**"
      ],
      "metadata": {
        "id": "PILfuXme3OOQ"
      }
    },
    {
      "cell_type": "code",
      "source": [
        "svm_rbf_kernel = svm.SVC(kernel='rbf')"
      ],
      "metadata": {
        "id": "zhJ__FmU3mgv"
      },
      "execution_count": null,
      "outputs": []
    },
    {
      "cell_type": "markdown",
      "source": [
        "**Cross Validation για εύρεση βέλτιστων παραμέτρων**"
      ],
      "metadata": {
        "id": "ymfsIFfR3RNi"
      }
    },
    {
      "cell_type": "code",
      "source": [
        "# Ορισμός του πλέγματος υπερπαραμέτρων για το C και το gamma\n",
        "param_grid = {'C': [10, 30, 50], 'gamma':[1e-3, 1e-2, 1e-1]}\n",
        "\n",
        "# GridSearchCV με Cross Validation\n",
        "grid_search = GridSearchCV(svm_rbf_kernel, param_grid, cv=4, verbose=2, n_jobs=-1)"
      ],
      "metadata": {
        "id": "fCNrgv453qx0"
      },
      "execution_count": null,
      "outputs": []
    },
    {
      "cell_type": "markdown",
      "source": [
        "**Εκπαίδευση SVM με τις βέλτιστες παραμέτρους**"
      ],
      "metadata": {
        "id": "u_SecZ8q3UGE"
      }
    },
    {
      "cell_type": "code",
      "source": [
        "start_time = time.time()\n",
        "\n",
        "# Εκπαίδευση polynomial SVM με grid_search\n",
        "grid_search.fit(x_train, y_train.ravel())\n",
        "\n",
        "end_time = time.time()\n",
        "elapsed_time = end_time - start_time\n",
        "print(f\"Training time: {elapsed_time} seconds\")\n",
        "\n",
        "# Εκτύπωση των καλύτερων παραμέτρων\n",
        "print(\"Best parameters found: \", grid_search.best_params_)"
      ],
      "metadata": {
        "colab": {
          "base_uri": "https://localhost:8080/"
        },
        "id": "yWV5sDag4Hmy",
        "outputId": "b7073922-1a7b-45f0-d6e4-00bbcd438d90"
      },
      "execution_count": null,
      "outputs": [
        {
          "output_type": "stream",
          "name": "stdout",
          "text": [
            "Fitting 4 folds for each of 9 candidates, totalling 36 fits\n",
            "Training time: 15889.024019956589 seconds\n",
            "Best parameters found:  {'C': 10, 'gamma': 0.01}\n"
          ]
        }
      ]
    },
    {
      "cell_type": "markdown",
      "source": [
        "**Αξιολόγηση στα δεδομένα του test set.**"
      ],
      "metadata": {
        "id": "6qvogvpV3W__"
      }
    },
    {
      "cell_type": "code",
      "source": [
        "# Πρόβλεψη στα δείγματα του test set\n",
        "y_pred = grid_search.best_estimator_.predict(x_test)\n",
        "\n",
        "accuracy = accuracy_score(y_test, y_pred)\n",
        "precision = precision_score(y_test, y_pred, average='weighted')\n",
        "recall = recall_score(y_test, y_pred, average='weighted')\n",
        "f1 = f1_score(y_test, y_pred, average='weighted')\n",
        "\n",
        "# Εκτύπωση μετρικών\n",
        "print(f'Accuracy: {100 * accuracy:.2f}%')\n",
        "print(f'Precision: {100 * precision:.2f}%')\n",
        "print(f'Recall: {100 * recall:.2f}%')\n",
        "print(f'F1 Score: {100 * f1:.2f}%')"
      ],
      "metadata": {
        "colab": {
          "base_uri": "https://localhost:8080/"
        },
        "id": "09UqF-Ny4Lqi",
        "outputId": "86dfbaa8-926c-4b44-c72f-5adff62284f7"
      },
      "execution_count": null,
      "outputs": [
        {
          "output_type": "stream",
          "name": "stdout",
          "text": [
            "Accuracy: 56.62%\n",
            "Precision: 56.87%\n",
            "Recall: 56.62%\n",
            "F1 Score: 56.67%\n"
          ]
        }
      ]
    },
    {
      "cell_type": "code",
      "source": [
        "# Δημιουργία DataFrame με στήλη που δείχνει αν η πρόβλεψη είναι σωστή\n",
        "results_df = pd.DataFrame({\n",
        "    'True Labels': y_test.ravel(),\n",
        "    'Predicted Labels': y_pred\n",
        "})\n",
        "results_df['Correct'] = results_df['True Labels'] == results_df['Predicted Labels']\n",
        "\n",
        "# Στυλ για highlight\n",
        "def highlight_correct(row):\n",
        "    if row['Correct']:\n",
        "        return ['background-color: lightgreen'] * len(row)\n",
        "    else:\n",
        "        return ['background-color: lightcoral'] * len(row)\n",
        "\n",
        "# Εφαρμογή highlight στο DataFrame\n",
        "styled_df = results_df.style.apply(highlight_correct, axis=1)\n",
        "\n",
        "# Εμφάνιση των πρώτων 10 γραμμών\n",
        "print(results_df.head(10))"
      ],
      "metadata": {
        "colab": {
          "base_uri": "https://localhost:8080/"
        },
        "id": "y2KvEy9q4PHr",
        "outputId": "498a4ea6-f539-42de-8e34-65c8b9232c35"
      },
      "execution_count": null,
      "outputs": [
        {
          "output_type": "stream",
          "name": "stdout",
          "text": [
            "   True Labels  Predicted Labels  Correct\n",
            "0            3                 3     True\n",
            "1            8                 1    False\n",
            "2            8                 8     True\n",
            "3            0                 0     True\n",
            "4            6                 6     True\n",
            "5            6                 6     True\n",
            "6            1                 1     True\n",
            "7            6                 6     True\n",
            "8            3                 3     True\n",
            "9            1                 1     True\n"
          ]
        }
      ]
    },
    {
      "cell_type": "markdown",
      "source": [
        "**Αξιολόγηση στα δεδομένα του train set.**"
      ],
      "metadata": {
        "id": "v0gMomp53Y4z"
      }
    },
    {
      "cell_type": "code",
      "source": [
        "# Πρόβλεψη στα δείγματα του train set\n",
        "y_pred = grid_search.best_estimator_.predict(x_train)\n",
        "\n",
        "accuracy = accuracy_score(y_train, y_pred)\n",
        "precision = precision_score(y_train, y_pred, average='weighted')\n",
        "recall = recall_score(y_train, y_pred, average='weighted')\n",
        "f1 = f1_score(y_train, y_pred, average='weighted')\n",
        "\n",
        "# Εκτύπωση μετρικών\n",
        "print(f'Accuracy: {100 * accuracy:.2f}%')\n",
        "print(f'Precision: {100 * precision:.2f}%')\n",
        "print(f'Recall: {100 * recall:.2f}%')\n",
        "print(f'F1 Score: {100 * f1:.2f}%')"
      ],
      "metadata": {
        "colab": {
          "base_uri": "https://localhost:8080/"
        },
        "id": "BaKM3vJX4Rh4",
        "outputId": "40cbe844-129a-40fd-c87b-d7aed08b8eef"
      },
      "execution_count": null,
      "outputs": [
        {
          "output_type": "stream",
          "name": "stdout",
          "text": [
            "Accuracy: 98.48%\n",
            "Precision: 98.50%\n",
            "Recall: 98.48%\n",
            "F1 Score: 98.49%\n"
          ]
        }
      ]
    },
    {
      "cell_type": "code",
      "source": [
        "# Δημιουργία DataFrame με στήλη που δείχνει αν η πρόβλεψη είναι σωστή\n",
        "results_df = pd.DataFrame({\n",
        "    'True Labels': y_train.ravel(),\n",
        "    'Predicted Labels': y_pred\n",
        "})\n",
        "results_df['Correct'] = results_df['True Labels'] == results_df['Predicted Labels']\n",
        "\n",
        "# Στυλ για highlight\n",
        "def highlight_correct(row):\n",
        "    if row['Correct']:\n",
        "        return ['background-color: lightgreen'] * len(row)\n",
        "    else:\n",
        "        return ['background-color: lightcoral'] * len(row)\n",
        "\n",
        "# Εφαρμογή highlight στο DataFrame\n",
        "styled_df = results_df.style.apply(highlight_correct, axis=1)\n",
        "\n",
        "# Εμφάνιση των πρώτων 10 γραμμών\n",
        "print(results_df.head(10))"
      ],
      "metadata": {
        "colab": {
          "base_uri": "https://localhost:8080/"
        },
        "id": "9Irdj5jm4Tq6",
        "outputId": "9023db29-07a9-4db8-e9b8-8bf48ba1fc30"
      },
      "execution_count": null,
      "outputs": [
        {
          "output_type": "stream",
          "name": "stdout",
          "text": [
            "   True Labels  Predicted Labels  Correct\n",
            "0            6                 6     True\n",
            "1            9                 9     True\n",
            "2            9                 9     True\n",
            "3            4                 4     True\n",
            "4            1                 1     True\n",
            "5            1                 1     True\n",
            "6            2                 2     True\n",
            "7            7                 7     True\n",
            "8            8                 8     True\n",
            "9            3                 3     True\n"
          ]
        }
      ]
    },
    {
      "cell_type": "markdown",
      "source": [
        "####Εκπαίδευση SVM με απλό ορισμό παραμέτρων"
      ],
      "metadata": {
        "id": "ty5IK2-S3BuA"
      }
    },
    {
      "cell_type": "markdown",
      "source": [
        "**Δημιουργία SVM**"
      ],
      "metadata": {
        "id": "Z08bJJv7yKNo"
      }
    },
    {
      "cell_type": "code",
      "source": [
        "svm_rbf_kernel = svm.SVC(kernel='rbf', C=0.1, gamma='scale')"
      ],
      "metadata": {
        "id": "PjVeiRzYxdhD"
      },
      "execution_count": 13,
      "outputs": []
    },
    {
      "cell_type": "markdown",
      "source": [
        "**Εκπαίδευση SVM**"
      ],
      "metadata": {
        "id": "9sMXqCYoyMz9"
      }
    },
    {
      "cell_type": "code",
      "source": [
        "start_time = time.time()\n",
        "\n",
        "svm_rbf_kernel.fit(x_train, y_train.ravel())\n",
        "\n",
        "end_time = time.time()\n",
        "elapsed_time = end_time - start_time\n",
        "print(f\"Training time: {elapsed_time} seconds\")"
      ],
      "metadata": {
        "colab": {
          "base_uri": "https://localhost:8080/"
        },
        "id": "xKq0v4AnyFnk",
        "outputId": "5b3c01ea-fe1f-401c-d997-3c796148120b"
      },
      "execution_count": 14,
      "outputs": [
        {
          "output_type": "stream",
          "name": "stdout",
          "text": [
            "Training time: 513.9445219039917 seconds\n"
          ]
        }
      ]
    },
    {
      "cell_type": "markdown",
      "source": [
        "**Αξιολόγηση στα δεδομένα του test set.**"
      ],
      "metadata": {
        "id": "iJhWTUXYykVB"
      }
    },
    {
      "cell_type": "code",
      "source": [
        "# Πρόβλεψη στα δείγματα του test set\n",
        "y_pred = svm_rbf_kernel.predict(x_test)\n",
        "\n",
        "accuracy = accuracy_score(y_test, y_pred)\n",
        "precision = precision_score(y_test, y_pred, average='weighted')\n",
        "recall = recall_score(y_test, y_pred, average='weighted')\n",
        "f1 = f1_score(y_test, y_pred, average='weighted')\n",
        "\n",
        "# Εκτύπωση μετρικών\n",
        "print(f'Accuracy: {100 * accuracy:.2f}%')\n",
        "print(f'Precision: {100 * precision:.2f}%')\n",
        "print(f'Recall: {100 * recall:.2f}%')\n",
        "print(f'F1 Score: {100 * f1:.2f}%')"
      ],
      "metadata": {
        "colab": {
          "base_uri": "https://localhost:8080/"
        },
        "id": "zkcCFmY_yQIx",
        "outputId": "7f2d8cb3-b701-4680-e77a-14660c58c6c0"
      },
      "execution_count": 15,
      "outputs": [
        {
          "output_type": "stream",
          "name": "stdout",
          "text": [
            "Accuracy: 45.11%\n",
            "Precision: 45.57%\n",
            "Recall: 45.11%\n",
            "F1 Score: 44.71%\n"
          ]
        }
      ]
    },
    {
      "cell_type": "code",
      "source": [
        "# Δημιουργία DataFrame με στήλη που δείχνει αν η πρόβλεψη είναι σωστή\n",
        "results_df = pd.DataFrame({\n",
        "    'True Labels': y_test.ravel(),\n",
        "    'Predicted Labels': y_pred\n",
        "})\n",
        "results_df['Correct'] = results_df['True Labels'] == results_df['Predicted Labels']\n",
        "\n",
        "# Στυλ για highlight\n",
        "def highlight_correct(row):\n",
        "    if row['Correct']:\n",
        "        return ['background-color: lightgreen'] * len(row)\n",
        "    else:\n",
        "        return ['background-color: lightcoral'] * len(row)\n",
        "\n",
        "# Εφαρμογή highlight στο DataFrame\n",
        "styled_df = results_df.style.apply(highlight_correct, axis=1)\n",
        "\n",
        "# Εμφάνιση των πρώτων 10 γραμμών\n",
        "print(results_df.head(10))"
      ],
      "metadata": {
        "colab": {
          "base_uri": "https://localhost:8080/"
        },
        "id": "LoV18kZQyUgv",
        "outputId": "7b1d166d-4471-49ae-9251-72fc5b09b8d7"
      },
      "execution_count": 16,
      "outputs": [
        {
          "output_type": "stream",
          "name": "stdout",
          "text": [
            "   True Labels  Predicted Labels  Correct\n",
            "0            3                 3     True\n",
            "1            8                 9    False\n",
            "2            8                 8     True\n",
            "3            0                 8    False\n",
            "4            6                 4    False\n",
            "5            6                 6     True\n",
            "6            1                 1     True\n",
            "7            6                 6     True\n",
            "8            3                 3     True\n",
            "9            1                 1     True\n"
          ]
        }
      ]
    },
    {
      "cell_type": "markdown",
      "source": [
        "**Αξιολόγηση στα δεδομένα του train set.**"
      ],
      "metadata": {
        "id": "ikLQdyPFyeoc"
      }
    },
    {
      "cell_type": "code",
      "source": [
        "# Πρόβλεψη στα δείγματα του train set\n",
        "y_pred = svm_rbf_kernel.predict(x_train)\n",
        "\n",
        "accuracy = accuracy_score(y_train, y_pred)\n",
        "precision = precision_score(y_train, y_pred, average='weighted')\n",
        "recall = recall_score(y_train, y_pred, average='weighted')\n",
        "f1 = f1_score(y_train, y_pred, average='weighted')\n",
        "\n",
        "# Εκτύπωση μετρικών\n",
        "print(f'Accuracy: {100 * accuracy:.2f}%')\n",
        "print(f'Precision: {100 * precision:.2f}%')\n",
        "print(f'Recall: {100 * recall:.2f}%')\n",
        "print(f'F1 Score: {100 * f1:.2f}%')"
      ],
      "metadata": {
        "colab": {
          "base_uri": "https://localhost:8080/"
        },
        "id": "bcfSKLVhyZur",
        "outputId": "39c369e1-a862-4b1a-e4ff-185ea7fb1697"
      },
      "execution_count": 17,
      "outputs": [
        {
          "output_type": "stream",
          "name": "stdout",
          "text": [
            "Accuracy: 49.85%\n",
            "Precision: 50.32%\n",
            "Recall: 49.85%\n",
            "F1 Score: 49.43%\n"
          ]
        }
      ]
    },
    {
      "cell_type": "code",
      "source": [
        "# Δημιουργία DataFrame με στήλη που δείχνει αν η πρόβλεψη είναι σωστή\n",
        "results_df = pd.DataFrame({\n",
        "    'True Labels': y_train.ravel(),\n",
        "    'Predicted Labels': y_pred\n",
        "})\n",
        "results_df['Correct'] = results_df['True Labels'] == results_df['Predicted Labels']\n",
        "\n",
        "# Στυλ για highlight\n",
        "def highlight_correct(row):\n",
        "    if row['Correct']:\n",
        "        return ['background-color: lightgreen'] * len(row)\n",
        "    else:\n",
        "        return ['background-color: lightcoral'] * len(row)\n",
        "\n",
        "# Εφαρμογή highlight στο DataFrame\n",
        "styled_df = results_df.style.apply(highlight_correct, axis=1)\n",
        "\n",
        "# Εμφάνιση των πρώτων 10 γραμμών\n",
        "print(results_df.head(10))"
      ],
      "metadata": {
        "colab": {
          "base_uri": "https://localhost:8080/"
        },
        "id": "dRxl2mNUycH6",
        "outputId": "976a16ed-7924-4134-db69-b428b8352902"
      },
      "execution_count": 18,
      "outputs": [
        {
          "output_type": "stream",
          "name": "stdout",
          "text": [
            "   True Labels  Predicted Labels  Correct\n",
            "0            6                 6     True\n",
            "1            9                 1    False\n",
            "2            9                 9     True\n",
            "3            4                 6    False\n",
            "4            1                 9    False\n",
            "5            1                 9    False\n",
            "6            2                 2     True\n",
            "7            7                 7     True\n",
            "8            8                 9    False\n",
            "9            3                 9    False\n"
          ]
        }
      ]
    }
  ],
  "metadata": {
    "colab": {
      "collapsed_sections": [
        "B6n8XRibanDK",
        "RvKebmKcc2Du",
        "QPLz7c6s8tUQ",
        "bWsJanqM8n0B",
        "zm7Ce82L5uQV",
        "v2E7T-4t6jbw",
        "xA1TXXHu49pS",
        "55ksyz3nxlDd",
        "ty5IK2-S3BuA"
      ],
      "provenance": []
    },
    "kernelspec": {
      "display_name": "Python 3",
      "name": "python3"
    },
    "language_info": {
      "name": "python"
    }
  },
  "nbformat": 4,
  "nbformat_minor": 0
}
